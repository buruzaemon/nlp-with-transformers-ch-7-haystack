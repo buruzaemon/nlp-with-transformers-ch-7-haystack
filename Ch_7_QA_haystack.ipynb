{
 "cells": [
  {
   "cell_type": "code",
   "execution_count": 1,
   "id": "04dd86f6-15a4-40df-8e9f-3382e996c761",
   "metadata": {},
   "outputs": [
    {
     "name": "stdout",
     "output_type": "stream",
     "text": [
      "env: TOKENIZERS_PARALLELISM=false\n"
     ]
    }
   ],
   "source": [
    "%env TOKENIZERS_PARALLELISM=false"
   ]
  },
  {
   "cell_type": "code",
   "execution_count": 2,
   "id": "60a244b6-5a27-41f0-89fe-831c5b0663cb",
   "metadata": {},
   "outputs": [],
   "source": [
    "# Suppress Haystack logging\n",
    "import logging\n",
    "for module in [\"farm.utils\", \"farm.infer\", \"haystack.reader.farm.FARMReader\",\n",
    "              \"farm.modeling.prediction_head\", \"elasticsearch\", \"haystack.eval\",\n",
    "               \"haystack.document_store.base\", \"haystack.retriever.base\", \n",
    "              \"farm.data_handler.dataset\"]:\n",
    "    module_logger = logging.getLogger(module)\n",
    "    module_logger.setLevel(logging.ERROR)\n"
   ]
  },
  {
   "cell_type": "code",
   "execution_count": 3,
   "id": "561a0faf-8e8e-4714-81ce-5bd95b314b8a",
   "metadata": {},
   "outputs": [
    {
     "data": {
      "text/plain": [
       "['books', 'electronics', 'grocery', 'movies', 'restaurants', 'tripadvisor']"
      ]
     },
     "execution_count": 3,
     "metadata": {},
     "output_type": "execute_result"
    }
   ],
   "source": [
    "from datasets import get_dataset_config_names\n",
    "\n",
    "domains = get_dataset_config_names(\"subjqa\")\n",
    "domains"
   ]
  },
  {
   "cell_type": "code",
   "execution_count": 4,
   "id": "9e8cd3b8-de31-44bd-9f59-c34794de64d5",
   "metadata": {},
   "outputs": [],
   "source": [
    "from datasets import load_dataset\n",
    "\n",
    "subjqa = load_dataset(\"subjqa\", name=\"electronics\")"
   ]
  },
  {
   "cell_type": "code",
   "execution_count": 5,
   "id": "79dbc45e-312f-4fa9-8591-10b6dbfb165f",
   "metadata": {},
   "outputs": [
    {
     "name": "stdout",
     "output_type": "stream",
     "text": [
      "{'text': ['Bass is weak as expected', 'Bass is weak as expected, even with EQ adjusted up'], 'answer_start': [1302, 1302], 'answer_subj_level': [1, 1], 'ans_subj_score': [0.5083333253860474, 0.5083333253860474], 'is_ans_subjective': [True, True]}\n"
     ]
    }
   ],
   "source": [
    "print(subjqa[\"train\"][\"answers\"][1])"
   ]
  },
  {
   "cell_type": "code",
   "execution_count": 6,
   "id": "d5f2cf1f-d52f-4b1f-8f2e-2f0a08f03109",
   "metadata": {},
   "outputs": [
    {
     "name": "stdout",
     "output_type": "stream",
     "text": [
      "Number of questions in train: 1295\n",
      "Number of questions in test: 358\n",
      "Number of questions in validation: 255\n"
     ]
    }
   ],
   "source": [
    "import pandas as pd\n",
    "\n",
    "dfs = {split: dset.to_pandas() for split, dset in subjqa.flatten().items()}\n",
    "\n",
    "for split, df in dfs.items():\n",
    "    print(f\"Number of questions in {split}: {df['id'].nunique()}\")"
   ]
  },
  {
   "cell_type": "code",
   "execution_count": null,
   "id": "a31c9b41-5b28-4633-828e-8cbe5bfa3d18",
   "metadata": {},
   "outputs": [],
   "source": []
  },
  {
   "cell_type": "code",
   "execution_count": null,
   "id": "2222532f-5c0d-4bb6-8784-bd7d8b75700a",
   "metadata": {},
   "outputs": [],
   "source": []
  },
  {
   "cell_type": "markdown",
   "id": "0dcf55f6-4f4a-496b-9290-b19c53d0d5a9",
   "metadata": {},
   "source": [
    "## Using Haystack to Build a QA Pipeline"
   ]
  },
  {
   "cell_type": "markdown",
   "id": "ed37b746-8b7a-49b8-8f2d-981c1667eaf8",
   "metadata": {},
   "source": [
    "### Initializing a document store"
   ]
  },
  {
   "cell_type": "raw",
   "id": "ff1ac33c-10cb-4df9-a74e-827110ca4189",
   "metadata": {},
   "source": [
    "url = \"\"\"https://artifacts.elastic.co/downloads/elasticsearch/\\\n",
    "elasticsearch-7.9.2-linux-x86_64.tar.gz\"\"\"\n",
    "!wget -nc -q {url}\n",
    "!tar -xzf elasticsearch-7.9.2-linux-x86_64.tar.gz"
   ]
  },
  {
   "cell_type": "raw",
   "id": "fe1bf240-9a16-44c5-9d4f-23cf01b7c0a4",
   "metadata": {},
   "source": [
    "import os\n",
    "from subprocess import Popen, PIPE, STDOUT\n",
    "\n",
    "# Run Elasticsearch as a background process\n",
    "!chown -R daemon:daemon elasticsearch-7.9.2\n",
    "es_server = Popen(args=['elasticsearch-7.9.2/bin/elasticsearch'],\n",
    "                  stdout=PIPE, stderr=STDOUT, preexec_fn=lambda: os.setuid(1))\n",
    "# Wait until Elasticsearch has started\n",
    "!sleep 30"
   ]
  },
  {
   "cell_type": "raw",
   "id": "4d63ea14-d582-45e2-984c-050643c6c43a",
   "metadata": {},
   "source": [
    "#hide\n",
    "# Alternative if Docker is installed\n",
    "from haystack.utils import launch_es\n",
    "\n",
    "launch_es()"
   ]
  },
  {
   "cell_type": "code",
   "execution_count": 7,
   "id": "f665c1df-598e-4c99-b000-f11556b95204",
   "metadata": {},
   "outputs": [],
   "source": [
    "# Alternative: Google Cloud Platform, Compute Engine VM instance\n",
    "# this will start up elasticsearch and create a PID file...\n",
    "import os\n",
    "from subprocess import Popen, PIPE, STDOUT\n",
    "\n",
    "es_server = Popen(\n",
    "    args=[\"elasticsearch-7.9.2/bin/elasticsearch\", \"-p\", \"pidfile\"],\n",
    "    stdout=PIPE,\n",
    "    stderr=STDOUT\n",
    ")\n",
    "\n",
    "# wait until Elasticsearch has started..\n",
    "!sleep 30"
   ]
  },
  {
   "cell_type": "code",
   "execution_count": 8,
   "id": "7404005a-2735-43bf-9b42-082d39fe128f",
   "metadata": {},
   "outputs": [
    {
     "name": "stdout",
     "output_type": "stream",
     "text": [
      "{\n",
      "  \"name\" : \"asia-east1-c-v100-n1-highmem-8\",\n",
      "  \"cluster_name\" : \"elasticsearch\",\n",
      "  \"cluster_uuid\" : \"4sT5ste9TQC3V01DA2KiKg\",\n",
      "  \"version\" : {\n",
      "    \"number\" : \"7.9.2\",\n",
      "    \"build_flavor\" : \"default\",\n",
      "    \"build_type\" : \"tar\",\n",
      "    \"build_hash\" : \"d34da0ea4a966c4e49417f2da2f244e3e97b4e6e\",\n",
      "    \"build_date\" : \"2020-09-23T00:45:33.626720Z\",\n",
      "    \"build_snapshot\" : false,\n",
      "    \"lucene_version\" : \"8.6.2\",\n",
      "    \"minimum_wire_compatibility_version\" : \"6.8.0\",\n",
      "    \"minimum_index_compatibility_version\" : \"6.0.0-beta1\"\n",
      "  },\n",
      "  \"tagline\" : \"You Know, for Search\"\n",
      "}\n"
     ]
    }
   ],
   "source": [
    "!curl -X GET \"localhost:9200/?pretty\""
   ]
  },
  {
   "cell_type": "code",
   "execution_count": 9,
   "id": "311bc3d2-4c1a-4606-bd97-7fa9321cb988",
   "metadata": {},
   "outputs": [],
   "source": [
    "from haystack.document_stores.elasticsearch import ElasticsearchDocumentStore\n",
    "\n",
    "# Return the document embedding for later use with dense retriever \n",
    "document_store = ElasticsearchDocumentStore(return_embedding=True)"
   ]
  },
  {
   "cell_type": "code",
   "execution_count": 10,
   "id": "9eea2c37-6724-4888-8512-29b9dbd6a44b",
   "metadata": {},
   "outputs": [],
   "source": [
    "# It's a good idea to flush Elasticsearch with each notebook restart\n",
    "if len(document_store.get_all_documents()) or len(document_store.get_all_labels()) > 0:\n",
    "    document_store.delete_documents(index=\"document\")\n",
    "    document_store.delete_documents(index=\"label\")"
   ]
  },
  {
   "cell_type": "markdown",
   "id": "76f67acf-0af5-42e2-b8fa-0ce1c758d10a",
   "metadata": {},
   "source": [
    "Since version 1.0 of Haystack, Documents now have a field `content`, which replaces the field `text`. This change was introduced because Documents have become more flexible and can also store tables in addition to texts."
   ]
  },
  {
   "cell_type": "code",
   "execution_count": 14,
   "id": "5916a4a0-c061-438d-b9c1-4583abb1eaa0",
   "metadata": {},
   "outputs": [
    {
     "name": "stdout",
     "output_type": "stream",
     "text": [
      "Loaded 1615 documents\n"
     ]
    }
   ],
   "source": [
    "for split, df in dfs.items():\n",
    "    # Exclude duplicate reviews\n",
    "    docs = [{\"content\": row[\"context\"], \"id\": row[\"review_id\"],\n",
    "             \"meta\":{\"item_id\": row[\"title\"], \"question_id\": row[\"id\"], \n",
    "                     \"split\": split}} \n",
    "        for _,row in df.drop_duplicates(subset=\"context\").iterrows()]\n",
    "    document_store.write_documents(documents=docs, index=\"document\")\n",
    "    \n",
    "print(f\"Loaded {document_store.get_document_count()} documents\")"
   ]
  },
  {
   "cell_type": "markdown",
   "id": "f73864d2-cbc8-4dab-ae75-696b011cebb0",
   "metadata": {},
   "source": [
    "### Initializing a retriever\n",
    "\n",
    "In Haystack 1.4 `ElasticsearchRetriever` was renamed to `BM25Retriever`. You can still use `ElasticsearchRetriever` for compatibility reasons in version 1.5 but it might be removed in future releases."
   ]
  },
  {
   "cell_type": "code",
   "execution_count": 15,
   "id": "02765618-bb48-47e5-b967-c8758663f2fe",
   "metadata": {},
   "outputs": [],
   "source": [
    "from haystack.nodes.retriever import BM25Retriever\n",
    "\n",
    "bm25_retriever = BM25Retriever(document_store=document_store)"
   ]
  },
  {
   "cell_type": "code",
   "execution_count": 16,
   "id": "eff5b4a7-ffc6-47e5-a987-0ef6bd0835ef",
   "metadata": {},
   "outputs": [],
   "source": [
    "item_id = \"B0074BW614\"\n",
    "query = \"Is it good for reading?\"\n",
    "retrieved_docs = bm25_retriever.retrieve(\n",
    "    query=query, top_k=3, filters={\"item_id\":[item_id], \"split\":[\"train\"]})"
   ]
  },
  {
   "cell_type": "code",
   "execution_count": 17,
   "id": "3cd7806f-d565-42fe-ab11-697654a2cc8c",
   "metadata": {},
   "outputs": [
    {
     "name": "stdout",
     "output_type": "stream",
     "text": [
      "<Document: id=4a6aa9c7808ebba8d35aeecbcc3c30fe, content='This is a gift to myself.  I have been a kindle user for 4 years and this is my third one.  I never ...'>\n"
     ]
    }
   ],
   "source": [
    "print(retrieved_docs[0])"
   ]
  },
  {
   "cell_type": "markdown",
   "id": "952a935f-2afc-405b-9070-a54f37f9a428",
   "metadata": {},
   "source": [
    "### Initializing a reader"
   ]
  },
  {
   "cell_type": "code",
   "execution_count": 18,
   "id": "4e2df0b8-1d08-4450-ad0c-b904b368123c",
   "metadata": {},
   "outputs": [
    {
     "name": "stderr",
     "output_type": "stream",
     "text": [
      "Some weights of the model checkpoint at deepset/minilm-uncased-squad2 were not used when initializing BertForQuestionAnswering: ['bert.pooler.dense.bias', 'bert.pooler.dense.weight']\n",
      "- This IS expected if you are initializing BertForQuestionAnswering from the checkpoint of a model trained on another task or with another architecture (e.g. initializing a BertForSequenceClassification model from a BertForPreTraining model).\n",
      "- This IS NOT expected if you are initializing BertForQuestionAnswering from the checkpoint of a model that you expect to be exactly identical (initializing a BertForSequenceClassification model from a BertForSequenceClassification model).\n"
     ]
    }
   ],
   "source": [
    "from haystack.nodes import FARMReader\n",
    "\n",
    "model_ckpt = \"deepset/minilm-uncased-squad2\" #alternative larger models: deepset/roberta-base-squad2-distilled or deepset/xlm-roberta-large-squad2 or the tiny distilled model: deepset/tinyroberta-squad2\n",
    "max_seq_length, doc_stride = 384, 128\n",
    "reader = FARMReader(model_name_or_path=model_ckpt, progress_bar=False,\n",
    "                    max_seq_len=max_seq_length, doc_stride=doc_stride, \n",
    "                    return_no_answer=True)"
   ]
  },
  {
   "cell_type": "code",
   "execution_count": 19,
   "id": "2178a163-3b5e-4191-b106-02bb473f1324",
   "metadata": {},
   "outputs": [
    {
     "name": "stdout",
     "output_type": "stream",
     "text": [
      "{'query': 'How much music can this hold?', 'no_ans_gap': 12.648087501525879, 'answers': [<Answer {'answer': '6000 hours', 'type': 'extractive', 'score': 0.5293064117431641, 'context': 'An MP3 is about 1 MB/minute, so about 6000 hours depending on file size.', 'offsets_in_document': [{'start': 38, 'end': 48}], 'offsets_in_context': [{'start': 38, 'end': 48}], 'document_ids': ['e344757014e804eff50faa3ecf1c9c75'], 'meta': {}}>]}\n"
     ]
    }
   ],
   "source": [
    "question = \"How much music can this hold?\"\n",
    "context = \"\"\"An MP3 is about 1 MB/minute, so about 6000 hours depending on \\\n",
    "file size.\"\"\"\n",
    "\n",
    "print(reader.predict_on_texts(question=question, texts=[context], top_k=1))"
   ]
  },
  {
   "cell_type": "markdown",
   "id": "a28b555d-0695-4a05-aa44-c5c9d0baac75",
   "metadata": {},
   "source": [
    "### Putting it all together"
   ]
  },
  {
   "cell_type": "code",
   "execution_count": 20,
   "id": "07bd939a-ed57-4cd5-a06a-716e7b589bee",
   "metadata": {},
   "outputs": [],
   "source": [
    "from haystack.pipelines import ExtractiveQAPipeline\n",
    "\n",
    "pipe = ExtractiveQAPipeline(reader=reader, retriever=bm25_retriever)"
   ]
  },
  {
   "cell_type": "markdown",
   "id": "8425bb0b-bbd1-4154-8138-d35aac42c60e",
   "metadata": {},
   "source": [
    "The format of parameters that can be passed to a pipeline has slightly changed. In the old version, the method call was\n",
    "\n",
    "    preds = pipe.run(query=query, top_k_retriever=3, top_k_reader=n_answers,\n",
    "                     filters={\"item_id\": [item_id], \"split\":[\"train\"]})\n",
    "\n",
    "Now, you can specify the name of the node, e.g., `\"Retriever\"`, that you want to pass parameters to.\n"
   ]
  },
  {
   "cell_type": "code",
   "execution_count": 21,
   "id": "47ec6ace-97e9-46ee-8770-e7f5c99dc138",
   "metadata": {},
   "outputs": [
    {
     "name": "stdout",
     "output_type": "stream",
     "text": [
      "Question: Is it good for reading? \n",
      "\n",
      "Answer 1: it is great for reading books when no light is available\n",
      "Review snippet: ...ecoming addicted to hers! Our son LOVES it and it is great for reading books when no light is available. Amazing sound but I suggest good headphones t...\n",
      "\n",
      "\n",
      "\n",
      "Answer 2: I mainly use it for book reading\n",
      "Review snippet: ... is my third one.  I never thought I would want a fire for I mainly use it for book reading.  I decided to try the fire for when I travel I take my la...\n",
      "\n",
      "\n",
      "\n",
      "Answer 3: \n",
      "Review snippet: ...None...\n",
      "\n",
      "\n",
      "\n"
     ]
    }
   ],
   "source": [
    "n_answers = 3\n",
    "preds = pipe.run(query=query, params={\"Retriever\": {\"top_k\": 3, \"filters\":{\"item_id\": [item_id], \"split\":[\"train\"]}}, \n",
    "                                      \"Reader\": {\"top_k\": n_answers}})\n",
    "\n",
    "print(f\"Question: {preds['query']} \\n\")\n",
    "\n",
    "for idx in range(n_answers):\n",
    "    print(f\"Answer {idx+1}: {preds['answers'][idx].answer}\")\n",
    "    print(f\"Review snippet: ...{preds['answers'][idx].context}...\")\n",
    "    print(\"\\n\\n\")"
   ]
  },
  {
   "cell_type": "markdown",
   "id": "5d337b7e-77eb-4fa8-a550-7020690928e5",
   "metadata": {},
   "source": [
    "## Improving Our QA Pipeline"
   ]
  },
  {
   "cell_type": "markdown",
   "id": "a3b41acd-49f1-4f31-9513-0a5c28f55afe",
   "metadata": {},
   "source": [
    "### Evaluating the Retriever\n",
    "\n",
    "Evaluating the retriever is the same as evaluating a `DocumentSearchPipeline`, which consists only of a single node, a retriever."
   ]
  },
  {
   "cell_type": "code",
   "execution_count": 22,
   "id": "e07b2c40-1fab-4726-9c85-9866a0a42805",
   "metadata": {},
   "outputs": [],
   "source": [
    "from haystack.pipelines import DocumentSearchPipeline\n",
    "\n",
    "pipe = DocumentSearchPipeline(retriever=bm25_retriever)"
   ]
  },
  {
   "cell_type": "markdown",
   "id": "8397353c-fe57-4de8-910b-9b9552233c88",
   "metadata": {},
   "source": [
    "Since version 1.0 of Haystack, `Answer` has become a class and each `Label` contains a `Document` that the `Label` refers to. Thus, the initialization of a `Label` in the following code cell has changed. Note that the code printed in the book had a small bug. In the for loop of the old code, `Label`s were created that were all initialized with the same id. Thus they were handled as duplicates and not all of them were stored in the document store when we later on called `document_store.write_labels(labels, index=\"label\")`:\n",
    "\n",
    "    for answer in row[\"answers.text\"]:\n",
    "            label = Label(\n",
    "                question=row[\"question\"], answer=answer, id=i, origin=row[\"id\"],\n",
    "                meta=meta, is_correct_answer=True, is_correct_document=True,\n",
    "                no_answer=False)\n",
    "            labels.append(label)\n",
    "\n",
    "_In the previous version there was a bug that omitted some of the labels._"
   ]
  },
  {
   "cell_type": "code",
   "execution_count": 23,
   "id": "4eb97613-790c-4482-97e6-a55d15564232",
   "metadata": {},
   "outputs": [],
   "source": [
    "from haystack import Label, Answer, Document\n",
    "\n",
    "labels = []\n",
    "for i, row in dfs[\"test\"].iterrows():\n",
    "    # Metadata used for filtering in the Retriever\n",
    "    meta = {\"item_id\": row[\"title\"], \"question_id\": row[\"id\"]}\n",
    "    # Populate labels for questions with answers\n",
    "    if len(row[\"answers.text\"]):\n",
    "        for answer in row[\"answers.text\"]:\n",
    "            label = Label(\n",
    "                query=row[\"question\"], answer=Answer(answer=answer), origin=\"gold-label\", document=Document(content=row[\"context\"], id=row[\"review_id\"]),\n",
    "                meta=meta, is_correct_answer=True, is_correct_document=True,\n",
    "                no_answer=False, filters={\"item_id\": [meta[\"item_id\"]], \"split\":[\"test\"]})\n",
    "            labels.append(label)\n",
    "    # Populate labels for questions without answers\n",
    "    else:\n",
    "        label = Label(\n",
    "            query=row[\"question\"], answer=Answer(answer=\"\"), origin=\"gold-label\", document=Document(content=row[\"context\"], id=row[\"review_id\"]),\n",
    "            meta=meta, is_correct_answer=True, is_correct_document=True,\n",
    "            no_answer=True, filters={\"item_id\": [row[\"title\"]], \"split\":[\"test\"]})  \n",
    "        labels.append(label)"
   ]
  },
  {
   "cell_type": "code",
   "execution_count": 24,
   "id": "91ee41ab-a48c-4a71-9d5a-f562bfff4341",
   "metadata": {},
   "outputs": [
    {
     "name": "stdout",
     "output_type": "stream",
     "text": [
      "Loaded 455 question-answer pairs\n"
     ]
    }
   ],
   "source": [
    "document_store.write_labels(labels, index=\"label\")\n",
    "\n",
    "print(f\"\"\"Loaded {document_store.get_label_count(index=\"label\")} \\\n",
    "question-answer pairs\"\"\")"
   ]
  },
  {
   "cell_type": "code",
   "execution_count": 25,
   "id": "b62755c5-20f4-4a01-bdd8-75c778e7c30e",
   "metadata": {},
   "outputs": [
    {
     "name": "stdout",
     "output_type": "stream",
     "text": [
      "330\n"
     ]
    }
   ],
   "source": [
    "labels_agg = document_store.get_all_labels_aggregated(\n",
    "    index=\"label\",\n",
    "    open_domain=True,\n",
    "    aggregate_by_meta=[\"item_id\"]\n",
    ")\n",
    "print(len(labels_agg))"
   ]
  },
  {
   "cell_type": "markdown",
   "id": "2d378725-b1ae-412e-9dcc-da3e303a65d8",
   "metadata": {},
   "source": [
    "Since version 1.0 of Haystack, the evaluation of pipelines is much different compared to the version described in the first edition of the book. `Pipeline` now has a method `eval()`, which runs the pipeline given input data from labels and returns the prediction and the labels in the format of one Pandas dataframe per pipeline node. This result is stored in `eval_result` in the following code cell. On these results, we can calculate arbitrary metrics - without rerunning the computationally intesive inference steps of the pipeline."
   ]
  },
  {
   "cell_type": "code",
   "execution_count": 26,
   "id": "c6474732-775b-45ad-8048-dc57ab54b660",
   "metadata": {},
   "outputs": [],
   "source": [
    "# We can run the pipeline with the desired top_k value like this\n",
    "eval_result = pipe.eval(\n",
    "    labels=labels_agg,\n",
    "    params={\"Retriever\": {\"top_k\": 3}},\n",
    ")\n",
    "metrics = eval_result.calculate_metrics()"
   ]
  },
  {
   "cell_type": "code",
   "execution_count": 27,
   "id": "bdc59df0-8c28-4c32-8f95-1628dabfe048",
   "metadata": {},
   "outputs": [
    {
     "name": "stdout",
     "output_type": "stream",
     "text": [
      "Recall@3: 0.96\n"
     ]
    }
   ],
   "source": [
    "print(f\"Recall@3: {metrics['Retriever']['recall_single_hit']:.2f}\")"
   ]
  },
  {
   "cell_type": "markdown",
   "id": "2649c5c3-4927-44fc-82a7-dbe375c56b80",
   "metadata": {},
   "source": [
    "You can check the predictions of any query by inspecting the dataframe:"
   ]
  },
  {
   "cell_type": "code",
   "execution_count": 28,
   "id": "9f70cb0b-e0c0-4d70-9f78-c78c61189fe5",
   "metadata": {},
   "outputs": [
    {
     "data": {
      "text/html": [
       "<div>\n",
       "<style scoped>\n",
       "    .dataframe tbody tr th:only-of-type {\n",
       "        vertical-align: middle;\n",
       "    }\n",
       "\n",
       "    .dataframe tbody tr th {\n",
       "        vertical-align: top;\n",
       "    }\n",
       "\n",
       "    .dataframe thead th {\n",
       "        text-align: right;\n",
       "    }\n",
       "</style>\n",
       "<table border=\"1\" class=\"dataframe\">\n",
       "  <thead>\n",
       "    <tr style=\"text-align: right;\">\n",
       "      <th></th>\n",
       "      <th>query</th>\n",
       "      <th>filters</th>\n",
       "      <th>rank</th>\n",
       "      <th>context</th>\n",
       "      <th>gold_contexts</th>\n",
       "      <th>document_id</th>\n",
       "      <th>gold_document_ids</th>\n",
       "      <th>gold_id_match</th>\n",
       "    </tr>\n",
       "  </thead>\n",
       "  <tbody>\n",
       "    <tr>\n",
       "      <th>3</th>\n",
       "      <td>How do you like the lens?</td>\n",
       "      <td>b'{\"item_id\": [\"B00006I53S\"], \"split\": [\"test\"]}'</td>\n",
       "      <td>1.0</td>\n",
       "      <td>I bought this lens for my Canon 20D digital ca...</td>\n",
       "      <td>[I bought this lens for my Canon 20D digital c...</td>\n",
       "      <td>fac2e8bec06035a70307dd1e8034ea63</td>\n",
       "      <td>[fac2e8bec06035a70307dd1e8034ea63]</td>\n",
       "      <td>1.0</td>\n",
       "    </tr>\n",
       "    <tr>\n",
       "      <th>4</th>\n",
       "      <td>How do you like the lens?</td>\n",
       "      <td>b'{\"item_id\": [\"B00006I53S\"], \"split\": [\"test\"]}'</td>\n",
       "      <td>2.0</td>\n",
       "      <td>I am not a professional or expert photographer...</td>\n",
       "      <td>[I bought this lens for my Canon 20D digital c...</td>\n",
       "      <td>26bf35fe7f9a73d28535d5072ab17714</td>\n",
       "      <td>[fac2e8bec06035a70307dd1e8034ea63]</td>\n",
       "      <td>0.0</td>\n",
       "    </tr>\n",
       "    <tr>\n",
       "      <th>8</th>\n",
       "      <td>How do you like the lens?</td>\n",
       "      <td>b'{\"item_id\": [\"B00007E7JU\"], \"split\": [\"test\"]}'</td>\n",
       "      <td>1.0</td>\n",
       "      <td>I think that the title says it all. It is one ...</td>\n",
       "      <td>[]</td>\n",
       "      <td>9cae133919a2dc476c371cde9e5effb8</td>\n",
       "      <td>[]</td>\n",
       "      <td>0.0</td>\n",
       "    </tr>\n",
       "    <tr>\n",
       "      <th>9</th>\n",
       "      <td>How do you like the lens?</td>\n",
       "      <td>b'{\"item_id\": [\"B00007E7JU\"], \"split\": [\"test\"]}'</td>\n",
       "      <td>2.0</td>\n",
       "      <td>I bough this lens for a relative who bought my...</td>\n",
       "      <td>[]</td>\n",
       "      <td>a1f6e39766a79f1475b3dbe07e517e04</td>\n",
       "      <td>[]</td>\n",
       "      <td>0.0</td>\n",
       "    </tr>\n",
       "    <tr>\n",
       "      <th>10</th>\n",
       "      <td>How do you like the lens?</td>\n",
       "      <td>b'{\"item_id\": [\"B00007E7JU\"], \"split\": [\"test\"]}'</td>\n",
       "      <td>3.0</td>\n",
       "      <td>I fell in love with the lens the moment I star...</td>\n",
       "      <td>[]</td>\n",
       "      <td>0fc71a2e4ec350e845ed384717792ad8</td>\n",
       "      <td>[]</td>\n",
       "      <td>0.0</td>\n",
       "    </tr>\n",
       "    <tr>\n",
       "      <th>133</th>\n",
       "      <td>How do you like the lens?</td>\n",
       "      <td>b'{\"item_id\": [\"B0025EWXEU\"], \"split\": [\"test\"]}'</td>\n",
       "      <td>1.0</td>\n",
       "      <td>I have read a lot of negative press about this...</td>\n",
       "      <td>[I have read a lot of negative press about thi...</td>\n",
       "      <td>47f76b8f62cf296d394d993741d660aa</td>\n",
       "      <td>[47f76b8f62cf296d394d993741d660aa, 47f76b8f62c...</td>\n",
       "      <td>1.0</td>\n",
       "    </tr>\n",
       "  </tbody>\n",
       "</table>\n",
       "</div>"
      ],
      "text/plain": [
       "                         query  \\\n",
       "3    How do you like the lens?   \n",
       "4    How do you like the lens?   \n",
       "8    How do you like the lens?   \n",
       "9    How do you like the lens?   \n",
       "10   How do you like the lens?   \n",
       "133  How do you like the lens?   \n",
       "\n",
       "                                               filters  rank  \\\n",
       "3    b'{\"item_id\": [\"B00006I53S\"], \"split\": [\"test\"]}'   1.0   \n",
       "4    b'{\"item_id\": [\"B00006I53S\"], \"split\": [\"test\"]}'   2.0   \n",
       "8    b'{\"item_id\": [\"B00007E7JU\"], \"split\": [\"test\"]}'   1.0   \n",
       "9    b'{\"item_id\": [\"B00007E7JU\"], \"split\": [\"test\"]}'   2.0   \n",
       "10   b'{\"item_id\": [\"B00007E7JU\"], \"split\": [\"test\"]}'   3.0   \n",
       "133  b'{\"item_id\": [\"B0025EWXEU\"], \"split\": [\"test\"]}'   1.0   \n",
       "\n",
       "                                               context  \\\n",
       "3    I bought this lens for my Canon 20D digital ca...   \n",
       "4    I am not a professional or expert photographer...   \n",
       "8    I think that the title says it all. It is one ...   \n",
       "9    I bough this lens for a relative who bought my...   \n",
       "10   I fell in love with the lens the moment I star...   \n",
       "133  I have read a lot of negative press about this...   \n",
       "\n",
       "                                         gold_contexts  \\\n",
       "3    [I bought this lens for my Canon 20D digital c...   \n",
       "4    [I bought this lens for my Canon 20D digital c...   \n",
       "8                                                   []   \n",
       "9                                                   []   \n",
       "10                                                  []   \n",
       "133  [I have read a lot of negative press about thi...   \n",
       "\n",
       "                          document_id  \\\n",
       "3    fac2e8bec06035a70307dd1e8034ea63   \n",
       "4    26bf35fe7f9a73d28535d5072ab17714   \n",
       "8    9cae133919a2dc476c371cde9e5effb8   \n",
       "9    a1f6e39766a79f1475b3dbe07e517e04   \n",
       "10   0fc71a2e4ec350e845ed384717792ad8   \n",
       "133  47f76b8f62cf296d394d993741d660aa   \n",
       "\n",
       "                                     gold_document_ids  gold_id_match  \n",
       "3                   [fac2e8bec06035a70307dd1e8034ea63]            1.0  \n",
       "4                   [fac2e8bec06035a70307dd1e8034ea63]            0.0  \n",
       "8                                                   []            0.0  \n",
       "9                                                   []            0.0  \n",
       "10                                                  []            0.0  \n",
       "133  [47f76b8f62cf296d394d993741d660aa, 47f76b8f62c...            1.0  "
      ]
     },
     "execution_count": 28,
     "metadata": {},
     "output_type": "execute_result"
    }
   ],
   "source": [
    "eval_df = eval_result[\"Retriever\"]\n",
    "#eval_df[eval_df[\"query\"] == \"How do you like the lens?\"][[\"query\", \"filters\", \"rank\", \"content\", \"gold_document_contents\", \"document_id\", \"gold_document_ids\", \"gold_id_match\"]]\n",
    "eval_df[eval_df[\"query\"] == \"How do you like the lens?\"][[\"query\", \"filters\", \"rank\", \"context\", \"gold_contexts\", \"document_id\", \"gold_document_ids\", \"gold_id_match\"]]"
   ]
  },
  {
   "cell_type": "markdown",
   "id": "7b1988a8-cfe2-4e0d-9be8-70d7f0a2d1d5",
   "metadata": {},
   "source": [
    "Or if we want to calculate metrics for multiple topk values, we can run the pipeline only once with the highest top_k value and calculate metrics for smaller top_ks afterwards."
   ]
  },
  {
   "cell_type": "code",
   "execution_count": 29,
   "id": "0739fe69-4a07-4dfd-855d-64e4fdefaacb",
   "metadata": {},
   "outputs": [
    {
     "name": "stderr",
     "output_type": "stream",
     "text": [
      "/opt/conda/envs/transformers-py38/lib/python3.8/site-packages/haystack/schema.py:1465: SettingWithCopyWarning: \n",
      "A value is trying to be set on a copy of a slice from a DataFrame.\n",
      "Try using .loc[row_indexer,col_indexer] = value instead\n",
      "\n",
      "See the caveats in the documentation: https://pandas.pydata.org/pandas-docs/stable/user_guide/indexing.html#returning-a-view-versus-a-copy\n",
      "  documents[\"matched_label_idxs\"] = documents.apply(find_matched_label_idxs, axis=1)\n",
      "/opt/conda/envs/transformers-py38/lib/python3.8/site-packages/haystack/schema.py:1465: SettingWithCopyWarning: \n",
      "A value is trying to be set on a copy of a slice from a DataFrame.\n",
      "Try using .loc[row_indexer,col_indexer] = value instead\n",
      "\n",
      "See the caveats in the documentation: https://pandas.pydata.org/pandas-docs/stable/user_guide/indexing.html#returning-a-view-versus-a-copy\n",
      "  documents[\"matched_label_idxs\"] = documents.apply(find_matched_label_idxs, axis=1)\n",
      "/opt/conda/envs/transformers-py38/lib/python3.8/site-packages/haystack/schema.py:1465: SettingWithCopyWarning: \n",
      "A value is trying to be set on a copy of a slice from a DataFrame.\n",
      "Try using .loc[row_indexer,col_indexer] = value instead\n",
      "\n",
      "See the caveats in the documentation: https://pandas.pydata.org/pandas-docs/stable/user_guide/indexing.html#returning-a-view-versus-a-copy\n",
      "  documents[\"matched_label_idxs\"] = documents.apply(find_matched_label_idxs, axis=1)\n"
     ]
    }
   ],
   "source": [
    "def evaluate_retriever(retriever, topk_values = [1,3,5,10,20]):\n",
    "    topk_results = {}\n",
    "    # Calculate max top_k\n",
    "    max_top_k = max(topk_values)\n",
    "    # Create Pipeline\n",
    "    p = DocumentSearchPipeline(retriever=retriever)\n",
    "    # Run inference with max top_k by looping over each question-answers pair in test set\n",
    "    eval_result = p.eval(\n",
    "        labels=labels_agg,\n",
    "        params={\"Retriever\": {\"top_k\": max_top_k}},\n",
    "    )\n",
    "    # Calculate metric for each top_k value\n",
    "    for topk in topk_values:        \n",
    "        # Get metrics\n",
    "        metrics = eval_result.calculate_metrics(simulated_top_k_retriever=topk)\n",
    "        topk_results[topk] = {\"recall\": metrics[\"Retriever\"][\"recall_single_hit\"]}\n",
    "        \n",
    "    return pd.DataFrame.from_dict(topk_results, orient=\"index\")\n",
    "\n",
    "\n",
    "bm25_topk_df = evaluate_retriever(bm25_retriever)"
   ]
  },
  {
   "cell_type": "code",
   "execution_count": 30,
   "id": "b4fb88f1-c660-4ed5-a80f-9c648fad6de3",
   "metadata": {},
   "outputs": [
    {
     "data": {
      "image/png": "[encoded data removed]",
      "text/plain": [
       "<Figure size 640x480 with 1 Axes>"
      ]
     },
     "metadata": {},
     "output_type": "display_data"
    }
   ],
   "source": [
    "import matplotlib.pyplot as plt\n",
    "\n",
    "def plot_retriever_eval(dfs, retriever_names):\n",
    "    fig, ax = plt.subplots()\n",
    "    for df, retriever_name in zip(dfs, retriever_names):\n",
    "        df.plot(y=\"recall\", ax=ax, label=retriever_name)\n",
    "    plt.xticks(df.index)\n",
    "    plt.ylabel(\"Top-k Recall\")\n",
    "    plt.xlabel(\"k\")\n",
    "    plt.show()\n",
    "    \n",
    "plot_retriever_eval([bm25_topk_df], [\"BM25\"])"
   ]
  },
  {
   "cell_type": "markdown",
   "id": "d0de10a3-5569-4d16-9db3-a29c59c73481",
   "metadata": {},
   "source": [
    "## Dense Passage Retrieval"
   ]
  },
  {
   "cell_type": "code",
   "execution_count": 31,
   "id": "edadba11-845e-4cae-91e0-99ec75208388",
   "metadata": {},
   "outputs": [],
   "source": [
    "from haystack.nodes import DensePassageRetriever\n",
    "\n",
    "dpr_retriever = DensePassageRetriever(document_store=document_store,\n",
    "    query_embedding_model=\"facebook/dpr-question_encoder-single-nq-base\",\n",
    "    passage_embedding_model=\"facebook/dpr-ctx_encoder-single-nq-base\",\n",
    "    embed_title=False)"
   ]
  },
  {
   "cell_type": "code",
   "execution_count": 32,
   "id": "593c7e11-8171-42ba-be46-5a25d11aed58",
   "metadata": {},
   "outputs": [
    {
     "name": "stderr",
     "output_type": "stream",
     "text": [
      "Updating embeddings:   0%|                                                         | 0/1615 [00:00<?, ? Docs/s]\n",
      "Create embeddings:   0%|                                                           | 0/1616 [00:00<?, ? Docs/s]\u001b[A\n",
      "Create embeddings:   2%|▉                                                | 32/1616 [00:00<00:07, 208.08 Docs/s]\u001b[A\n",
      "Create embeddings:   4%|█▉                                               | 64/1616 [00:00<00:07, 217.02 Docs/s]\u001b[A\n",
      "Create embeddings:   6%|██▉                                              | 96/1616 [00:00<00:06, 222.59 Docs/s]\u001b[A\n",
      "Create embeddings:   8%|███▊                                            | 128/1616 [00:00<00:06, 225.78 Docs/s]\u001b[A\n",
      "Create embeddings:  10%|████▊                                           | 160/1616 [00:00<00:06, 227.97 Docs/s]\u001b[A\n",
      "Create embeddings:  12%|█████▋                                          | 192/1616 [00:00<00:06, 229.33 Docs/s]\u001b[A\n",
      "Create embeddings:  14%|██████▋                                         | 224/1616 [00:00<00:06, 230.30 Docs/s]\u001b[A\n",
      "Create embeddings:  16%|███████▌                                        | 256/1616 [00:01<00:05, 230.52 Docs/s]\u001b[A\n",
      "Create embeddings:  18%|████████▌                                       | 288/1616 [00:01<00:05, 231.22 Docs/s]\u001b[A\n",
      "Create embeddings:  20%|█████████▌                                      | 320/1616 [00:01<00:05, 231.53 Docs/s]\u001b[A\n",
      "Create embeddings:  22%|██████████▍                                     | 352/1616 [00:01<00:05, 231.65 Docs/s]\u001b[A\n",
      "Create embeddings:  24%|███████████▍                                    | 384/1616 [00:01<00:05, 231.55 Docs/s]\u001b[A\n",
      "Create embeddings:  26%|████████████▎                                   | 416/1616 [00:01<00:05, 231.51 Docs/s]\u001b[A\n",
      "Create embeddings:  28%|█████████████▎                                  | 448/1616 [00:01<00:05, 231.67 Docs/s]\u001b[A\n",
      "Create embeddings:  30%|██████████████▎                                 | 480/1616 [00:02<00:04, 231.34 Docs/s]\u001b[A\n",
      "Create embeddings:  32%|███████████████▏                                | 512/1616 [00:02<00:04, 231.72 Docs/s]\u001b[A\n",
      "Create embeddings:  34%|████████████████▏                               | 544/1616 [00:02<00:04, 231.76 Docs/s]\u001b[A\n",
      "Create embeddings:  36%|█████████████████                               | 576/1616 [00:02<00:04, 231.80 Docs/s]\u001b[A\n",
      "Create embeddings:  38%|██████████████████                              | 608/1616 [00:02<00:04, 231.77 Docs/s]\u001b[A\n",
      "Create embeddings:  40%|███████████████████                             | 640/1616 [00:02<00:04, 232.11 Docs/s]\u001b[A\n",
      "Create embeddings:  42%|███████████████████▉                            | 672/1616 [00:02<00:04, 231.97 Docs/s]\u001b[A\n",
      "Create embeddings:  44%|████████████████████▉                           | 704/1616 [00:03<00:03, 231.34 Docs/s]\u001b[A\n",
      "Create embeddings:  46%|█████████████████████▊                          | 736/1616 [00:03<00:03, 231.30 Docs/s]\u001b[A\n",
      "Create embeddings:  48%|██████████████████████▊                         | 768/1616 [00:03<00:03, 231.58 Docs/s]\u001b[A\n",
      "Create embeddings:  50%|███████████████████████▊                        | 800/1616 [00:03<00:03, 231.99 Docs/s]\u001b[A\n",
      "Create embeddings:  51%|████████████████████████▋                       | 832/1616 [00:03<00:03, 232.16 Docs/s]\u001b[A\n",
      "Create embeddings:  53%|█████████████████████████▋                      | 864/1616 [00:03<00:03, 232.04 Docs/s]\u001b[A\n",
      "Create embeddings:  55%|██████████████████████████▌                     | 896/1616 [00:03<00:03, 232.04 Docs/s]\u001b[A\n",
      "Create embeddings:  57%|███████████████████████████▌                    | 928/1616 [00:04<00:02, 232.47 Docs/s]\u001b[A\n",
      "Create embeddings:  59%|████████████████████████████▌                   | 960/1616 [00:04<00:02, 231.53 Docs/s]\u001b[A\n",
      "Create embeddings:  61%|█████████████████████████████▍                  | 992/1616 [00:04<00:02, 232.02 Docs/s]\u001b[A\n",
      "Create embeddings:  63%|█████████████████████████████▊                 | 1024/1616 [00:04<00:02, 232.10 Docs/s]\u001b[A\n",
      "Create embeddings:  65%|██████████████████████████████▋                | 1056/1616 [00:04<00:02, 232.40 Docs/s]\u001b[A\n",
      "Create embeddings:  67%|███████████████████████████████▋               | 1088/1616 [00:04<00:02, 232.40 Docs/s]\u001b[A\n",
      "Create embeddings:  69%|████████████████████████████████▌              | 1120/1616 [00:04<00:02, 231.80 Docs/s]\u001b[A\n",
      "Create embeddings:  71%|█████████████████████████████████▌             | 1152/1616 [00:04<00:02, 231.34 Docs/s]\u001b[A\n",
      "Create embeddings:  73%|██████████████████████████████████▍            | 1184/1616 [00:05<00:01, 231.78 Docs/s]\u001b[A\n",
      "Create embeddings:  75%|███████████████████████████████████▎           | 1216/1616 [00:05<00:01, 231.77 Docs/s]\u001b[A\n",
      "Create embeddings:  77%|████████████████████████████████████▎          | 1248/1616 [00:05<00:01, 231.82 Docs/s]\u001b[A\n",
      "Create embeddings:  79%|█████████████████████████████████████▏         | 1280/1616 [00:05<00:01, 231.90 Docs/s]\u001b[A\n",
      "Create embeddings:  81%|██████████████████████████████████████▏        | 1312/1616 [00:05<00:01, 231.88 Docs/s]\u001b[A\n",
      "Create embeddings:  83%|███████████████████████████████████████        | 1344/1616 [00:05<00:01, 231.82 Docs/s]\u001b[A\n",
      "Create embeddings:  85%|████████████████████████████████████████       | 1376/1616 [00:05<00:01, 231.42 Docs/s]\u001b[A\n",
      "Create embeddings:  87%|████████████████████████████████████████▉      | 1408/1616 [00:06<00:00, 231.79 Docs/s]\u001b[A\n",
      "Create embeddings:  89%|█████████████████████████████████████████▉     | 1440/1616 [00:06<00:00, 231.94 Docs/s]\u001b[A\n",
      "Create embeddings:  91%|██████████████████████████████████████████▊    | 1472/1616 [00:06<00:00, 231.85 Docs/s]\u001b[A\n",
      "Create embeddings:  93%|███████████████████████████████████████████▋   | 1504/1616 [00:06<00:00, 231.66 Docs/s]\u001b[A\n",
      "Create embeddings:  95%|████████████████████████████████████████████▋  | 1536/1616 [00:06<00:00, 231.96 Docs/s]\u001b[A\n",
      "Create embeddings:  97%|█████████████████████████████████████████████▌ | 1568/1616 [00:06<00:00, 231.99 Docs/s]\u001b[A\n",
      "Create embeddings:  99%|██████████████████████████████████████████████▌| 1600/1616 [00:06<00:00, 231.28 Docs/s]\u001b[A\n",
      "Updating embeddings: 10000 Docs [00:17, 562.84 Docs/s]                                                         \u001b[A\n"
     ]
    }
   ],
   "source": [
    "document_store.update_embeddings(retriever=dpr_retriever)"
   ]
  },
  {
   "cell_type": "code",
   "execution_count": 33,
   "id": "9a43ce45-57dc-4263-9eca-1befbf0ee54c",
   "metadata": {},
   "outputs": [
    {
     "name": "stderr",
     "output_type": "stream",
     "text": [
      "/opt/conda/envs/transformers-py38/lib/python3.8/site-packages/haystack/schema.py:1465: SettingWithCopyWarning: \n",
      "A value is trying to be set on a copy of a slice from a DataFrame.\n",
      "Try using .loc[row_indexer,col_indexer] = value instead\n",
      "\n",
      "See the caveats in the documentation: https://pandas.pydata.org/pandas-docs/stable/user_guide/indexing.html#returning-a-view-versus-a-copy\n",
      "  documents[\"matched_label_idxs\"] = documents.apply(find_matched_label_idxs, axis=1)\n",
      "/opt/conda/envs/transformers-py38/lib/python3.8/site-packages/haystack/schema.py:1465: SettingWithCopyWarning: \n",
      "A value is trying to be set on a copy of a slice from a DataFrame.\n",
      "Try using .loc[row_indexer,col_indexer] = value instead\n",
      "\n",
      "See the caveats in the documentation: https://pandas.pydata.org/pandas-docs/stable/user_guide/indexing.html#returning-a-view-versus-a-copy\n",
      "  documents[\"matched_label_idxs\"] = documents.apply(find_matched_label_idxs, axis=1)\n",
      "/opt/conda/envs/transformers-py38/lib/python3.8/site-packages/haystack/schema.py:1465: SettingWithCopyWarning: \n",
      "A value is trying to be set on a copy of a slice from a DataFrame.\n",
      "Try using .loc[row_indexer,col_indexer] = value instead\n",
      "\n",
      "See the caveats in the documentation: https://pandas.pydata.org/pandas-docs/stable/user_guide/indexing.html#returning-a-view-versus-a-copy\n",
      "  documents[\"matched_label_idxs\"] = documents.apply(find_matched_label_idxs, axis=1)\n"
     ]
    },
    {
     "data": {
      "image/png": "[encoded data removed]",
      "text/plain": [
       "<Figure size 640x480 with 1 Axes>"
      ]
     },
     "metadata": {},
     "output_type": "display_data"
    }
   ],
   "source": [
    "dpr_topk_df = evaluate_retriever(dpr_retriever)\n",
    "plot_retriever_eval([bm25_topk_df, dpr_topk_df], [\"BM25\", \"DPR\"])"
   ]
  },
  {
   "cell_type": "markdown",
   "id": "1adac37e-4dbd-44b5-baf4-a25fe71ae9cd",
   "metadata": {},
   "source": [
    "### Evaluating the Reader"
   ]
  },
  {
   "cell_type": "code",
   "execution_count": 34,
   "id": "ea99a755-b02f-41ae-a5f7-168935c9fe08",
   "metadata": {},
   "outputs": [
    {
     "name": "stdout",
     "output_type": "stream",
     "text": [
      "EM: 0\n",
      "F1: 0.8\n"
     ]
    }
   ],
   "source": [
    "from haystack.modeling.evaluation.squad import compute_f1, compute_exact\n",
    "\n",
    "pred = \"about 6000 hours\"\n",
    "label = \"6000 hours\"\n",
    "print(f\"EM: {compute_exact(label, pred)}\")\n",
    "print(f\"F1: {compute_f1(label, pred)}\")"
   ]
  },
  {
   "cell_type": "code",
   "execution_count": 35,
   "id": "b9217fc9-d866-4801-9928-f3ce3b3532bc",
   "metadata": {},
   "outputs": [
    {
     "name": "stdout",
     "output_type": "stream",
     "text": [
      "EM: 0\n",
      "F1: 0.4\n"
     ]
    }
   ],
   "source": [
    "pred = \"about 6000 dollars\"\n",
    "print(f\"EM: {compute_exact(label, pred)}\")\n",
    "print(f\"F1: {compute_f1(label, pred)}\")"
   ]
  },
  {
   "cell_type": "markdown",
   "id": "89199e91-cbc0-4b41-80ee-4e27edba3cb0",
   "metadata": {},
   "source": [
    "The evaluation of a reader can be done by creating a pipeline that consists only of a single node: a reader. In this case, the `pipeline.eval()` gets the relevant documents as direct input from the labels."
   ]
  },
  {
   "cell_type": "code",
   "execution_count": 36,
   "id": "cf77c892-ec95-4dfb-b701-b2888584991d",
   "metadata": {},
   "outputs": [],
   "source": [
    "from haystack.pipelines import Pipeline\n",
    "def evaluate_reader(reader):\n",
    "    score_keys = ['exact_match', 'f1']\n",
    "    p = Pipeline()\n",
    "    p.add_node(component=reader, name=\"Reader\", inputs=[\"Query\"])\n",
    "\n",
    "    eval_result = p.eval(\n",
    "        labels=labels_agg,\n",
    "        documents= [[label.document for label in multilabel.labels] for multilabel in labels_agg],\n",
    "        params={},\n",
    "    )\n",
    "    metrics = eval_result.calculate_metrics(simulated_top_k_reader=1)\n",
    "                \n",
    "    return {k:v for k,v in metrics[\"Reader\"].items() if k in score_keys}\n",
    "\n",
    "reader_eval = {}\n",
    "reader_eval[\"Fine-tune on SQuAD\"] = evaluate_reader(reader)"
   ]
  },
  {
   "cell_type": "markdown",
   "id": "1c033df5-4647-4ad9-a910-33de4b8c42da",
   "metadata": {},
   "source": [
    "In the first version no_answer labels weren't taken into account. Because there are quite many of them in the evaluation dataset the numbers differ significantly compared to the first version (EM was at ~0.07 and f1 at ~0.25)."
   ]
  },
  {
   "cell_type": "code",
   "execution_count": 37,
   "id": "68efe6f1-a48c-4c36-a8e1-a99453c7ed33",
   "metadata": {},
   "outputs": [
    {
     "data": {
      "image/png": "[encoded data removed]",
      "text/plain": [
       "<Figure size 640x480 with 1 Axes>"
      ]
     },
     "metadata": {},
     "output_type": "display_data"
    }
   ],
   "source": [
    "def plot_reader_eval(reader_eval):\n",
    "    fig, ax = plt.subplots()\n",
    "    df = pd.DataFrame.from_dict(reader_eval).reindex([\"exact_match\", \"f1\"])\n",
    "    df.plot(kind=\"bar\", ylabel=\"Score\", rot=0, ax=ax)\n",
    "    ax.set_xticklabels([\"EM\", \"F1\"])\n",
    "    plt.legend(loc='upper left')\n",
    "    plt.show()\n",
    "\n",
    "plot_reader_eval(reader_eval)"
   ]
  },
  {
   "cell_type": "markdown",
   "id": "54f7595b-4c1a-4545-906c-8df050b7e506",
   "metadata": {},
   "source": [
    "## Domain Adaptation"
   ]
  },
  {
   "cell_type": "code",
   "execution_count": 38,
   "id": "1f89cc31-c341-400d-9a78-979b95227a70",
   "metadata": {},
   "outputs": [],
   "source": [
    "def create_paragraphs(df):\n",
    "    paragraphs = []\n",
    "    id2context = dict(zip(df[\"review_id\"], df[\"context\"]))\n",
    "    for review_id, review in id2context.items():\n",
    "        qas = []\n",
    "        # Filter for all question-answer pairs about a specific context\n",
    "        review_df = df.query(f\"review_id == '{review_id}'\")\n",
    "        id2question = dict(zip(review_df[\"id\"], review_df[\"question\"]))\n",
    "        # Build up the qas array\n",
    "        for qid, question in id2question.items():\n",
    "            # Filter for a single question ID\n",
    "            question_df = df.query(f\"id == '{qid}'\").to_dict(orient=\"list\")\n",
    "            ans_start_idxs = question_df[\"answers.answer_start\"][0].tolist()\n",
    "            ans_text = question_df[\"answers.text\"][0].tolist()\n",
    "            # Fill answerable questions\n",
    "            if len(ans_start_idxs):\n",
    "                answers = [\n",
    "                    {\"text\": text, \"answer_start\": answer_start}\n",
    "                    for text, answer_start in zip(ans_text, ans_start_idxs)]\n",
    "                is_impossible = False\n",
    "            else:\n",
    "                answers = []\n",
    "                is_impossible = True\n",
    "            # Add question-answer pairs to qas\n",
    "            qas.append({\"question\": question, \"id\": qid, \n",
    "                        \"is_impossible\": is_impossible, \"answers\": answers})\n",
    "        # Add context and question-answer pairs to paragraphs\n",
    "        paragraphs.append({\"qas\": qas, \"context\": review})\n",
    "    return paragraphs"
   ]
  },
  {
   "cell_type": "code",
   "execution_count": 39,
   "id": "e1aede97-af69-4e8d-9c5d-d93c719813ea",
   "metadata": {},
   "outputs": [
    {
     "data": {
      "text/plain": [
       "[{'qas': [{'question': 'How is the bass?',\n",
       "    'id': '2543d296da9766d8d17d040ecc781699',\n",
       "    'is_impossible': True,\n",
       "    'answers': []}],\n",
       "  'context': 'I have had Koss headphones in the past, Pro 4AA and QZ-99.  The Koss Portapro is portable AND has great bass response.  The work great with my Android phone and can be \"rolled up\" to be carried in my motorcycle jacket or computer bag without getting crunched.  They are very light and do not feel heavy or bear down on your ears even after listening to music with them on all day.  The sound is night and day better than any ear-bud could be and are almost as good as the Pro 4AA.  They are \"open air\" headphones so you cannot match the bass to the sealed types, but it comes close. For $32, you cannot go wrong.'},\n",
       " {'qas': [{'question': 'Is this music song have a goo bass?',\n",
       "    'id': 'd476830bf9282e2b9033e2bb44bbb995',\n",
       "    'is_impossible': False,\n",
       "    'answers': [{'text': 'Bass is weak as expected', 'answer_start': 1302},\n",
       "     {'text': 'Bass is weak as expected, even with EQ adjusted up',\n",
       "      'answer_start': 1302}]}],\n",
       "  'context': 'To anyone who hasn\\'t tried all the various types of headphones, it is important to remember exactly what these are: cheap portable on-ear headphones. They give a totally different sound then in-ears or closed design phones, but for what they are I would say they\\'re good. I currently own six pairs of phones, from stock apple earbuds to Sennheiser HD 518s. Gave my Portapros a run on both my computer\\'s sound card and mp3 player, using 256 kbps mp3s or better. The clarity is good and they\\'re very lightweight. The folding design is simple but effective. The look is certainly retro and unique, although I didn\\'t find it as comfortable as many have claimed. Earpads are *very* thin and made my ears sore after 30 minutes of listening, although this can be remedied to a point by adjusting the \"comfort zone\" feature (tightening the temple pads while loosening the ear pads). The cord seems to be an average thickness, but I wouldn\\'t get too rough with these. The steel headband adjusts smoothly and easily, just watch out that the slider doesn\\'t catch your hair. Despite the sore ears, the phones are very lightweight overall.Back to the sound: as you would expect, it\\'s good for a portable phone, but hardly earth shattering. At flat EQ the clarity is good, although the highs can sometimes be harsh. Bass is weak as expected, even with EQ adjusted up. To be fair, a portable on-ear would have a tough time comparing to the bass of an in-ear with a good seal or a pair with larger drivers. No sound isolation offered if you\\'re into that sort of thing. Cool 80s phones, though I\\'ve certainly owned better portable on-ears (Sony makes excellent phones in this category). Soundstage is very narrow and lacks body. A good value if you can get them for under thirty, otherwise I\\'d rather invest in a nicer pair of phones. If we\\'re talking about value, they\\'re a good buy compared to new stock apple buds. If you\\'re trying to compare the sound quality of this product to serious headphones, there\\'s really no comparison at all.Update: After 100 hours of burn-in time the sound has not been affected in any appreciable way. Highs are still harsh, and bass is still underwhelming. I sometimes use these as a convenience but they have been largely replaced in my collection.'},\n",
       " {'qas': [{'question': 'How is the bass?',\n",
       "    'id': '455575557886d6dfeea5aa19577e5de4',\n",
       "    'is_impossible': False,\n",
       "    'answers': [{'text': 'The only fault in the sound is the bass',\n",
       "      'answer_start': 650}]}],\n",
       "  'context': \"I have had many sub-$100 headphones from $5 Panasonic to $100 Sony, with Sennheiser HD 433, 202, PX100 II (I really wanted to like these PX100-II, they were so very well designed), and even a Grado SR60 for awhile.  And what it basically comes down to is value.  I have never heard sound as good as these headphones in the $35 range, easily the best under $75.  I can't believe they're over 25 years old.It's hard to describe how much detail these headphones bring out without making it too harsh or dull.  I listen to every type of music from classical to hip hop to electronic to country, and these headphones are suitable for all types of music.  The only fault in the sound is the bass.  It's just a *slight* bit boomy, but you get to like it after a while to be honest.The design is from the 80s as you all have probably figured out.  It could use a update but it seems like Koss has tried to perfect this formula and failed in the past.  I don't really care about the looks or the way it folds up or the fact that my hair gets caught up in it (I have very short hair, even for a male).But despite it's design flaws, it's the most comfortable headphones I have ever worn, and the best part is that it's also the best sounding pair of headphones I have ever heard under $75.If you can get over the design flaws or if sound is the most important feature of headphones for you, there is nothing even close to this at this price range.This one is an absolute GEM.  I loved these so much I ordered two of the 25th Anniversary ones for a bit more.Update: I read some reviews about the PX100-II being much improved and better sounding than the PortaPro.  Since the PX100-II is relatively new, I thought I'd give it another listen.  This time I noticed something different.  The sound is warm, mellow, and neutral, but it loses a lot of detail at the expense of these attributes.  I still prefer higher-detail Portapro, but some may prefer the more mellow sound of the PX100-II.Oh by the way the Portapro comes in the straight plug now, not the angled plug anymore.  It's supposed to be for better compatibility with the iPods and iPhones out there.\"}]"
      ]
     },
     "execution_count": 39,
     "metadata": {},
     "output_type": "execute_result"
    }
   ],
   "source": [
    "product = dfs[\"train\"].query(\"title == 'B00001P4ZH'\")\n",
    "create_paragraphs(product)"
   ]
  },
  {
   "cell_type": "code",
   "execution_count": 40,
   "id": "fa787c38-ff2d-46f0-a2a6-143ff554a2ea",
   "metadata": {},
   "outputs": [],
   "source": [
    "import json\n",
    "\n",
    "def convert_to_squad(dfs):\n",
    "    for split, df in dfs.items():\n",
    "        subjqa_data = {}\n",
    "        # Create `paragraphs` for each product ID\n",
    "        groups = (df.groupby(\"title\").apply(create_paragraphs)\n",
    "            .to_frame(name=\"paragraphs\").reset_index())\n",
    "        subjqa_data[\"data\"] = groups.to_dict(orient=\"records\")\n",
    "        # Save the result to disk\n",
    "        with open(f\"electronics-{split}.json\", \"w+\", encoding=\"utf-8\") as f:\n",
    "            json.dump(subjqa_data, f)\n",
    "            \n",
    "convert_to_squad(dfs)"
   ]
  },
  {
   "cell_type": "code",
   "execution_count": 41,
   "id": "f7c20156-0a2c-49e3-8259-77bea4e05cf2",
   "metadata": {},
   "outputs": [
    {
     "name": "stderr",
     "output_type": "stream",
     "text": [
      "Preprocessing dataset:   0%|                                                         | 0/3 [00:00<?, ? Dicts/s]Answer 'These earbuds are nothing special. Their best attribute is that they are cheap. The sound from them is nothing special. In comparison to my standard white IPod buds these seem to emphasize the higher frequencies. There seems to be nothing happening in the bass range with these. I don't think they are efficient enough to have much bass at all. To be fair, my IPod buds overly emphasize bass so they are not that accurate either. I also compared these to a pricy Sennheiser set that I've owned for a couple of years and let's just say there is a reason why the Sennheisers cost more.Surely these Panasonic buds are very nice to use if you think they might get damaged somehow in use as it will not break your heart to have to replace them. These might be especially useful if you only listen to talk radio or have high frequency hearing loss. If you really like to listen to the most of your music and you must wear earbuds then these are not for you.I also have to note that these are packaged in a difficult to open blister pack that required several passes with utility shears to break into. I hate to see all the plastic that has to be discarded just to get this product out of the package.Cosmetically, they are OK. They don't hurt my ears and are comfortable to me. They come with a couple of other size ear pieces if you are hard to fit. The wires take a set when folded so they are not very well-behaved and don't coil nicely and lie flat when you put them away. These will be a little bird's nest of tangled wires when you set them aside. ANSWERNOTFOUND' not contained in context.\n",
      "Example will not be converted for training/evaluation.\n",
      "Preprocessing dataset:  33%|████████████████▎                                | 1/3 [00:00<00:01,  1.37 Dicts/s]Answer using start/end indices is '  Operation of the menus and contro' while gold label text is 'Operation of the menus and controls'.\n",
      "Example will not be converted for training/evaluation.\n",
      "Answer using start/end indices is '  This camera performs like the pros.  Fast accurate and easy to operat' while gold label text is 'This camera performs like the pros.  Fast accurate and easy to operated'.\n",
      "Example will not be converted for training/evaluation.\n",
      "Preprocessing dataset:  67%|████████████████████████████████▋                | 2/3 [00:01<00:00,  1.29 Dicts/s]Answer 'enjoy my music.  When I used my old one ear headset for music, the connection was not that good even if I put the phone in my pants pocket.  I used it on iPhone 4S and iPad 3 for music, phone calls, and audible app.  All Bluetooth controls work fine. ANSWERNOTFOUND' not contained in context.\n",
      "Example will not be converted for training/evaluation.\n",
      "Answer 'is good.  First unit defective.  Directions are weak and limited, Net support just plain bad. Roku insists on registration, [I think SEVEN times for us] before asking dumb questions and forcing us to run from computer to TV and back.  This is a Roku 3, and apparently it's too new for them to handle. ANSWERNOTFOUND' not contained in context.\n",
      "Example will not be converted for training/evaluation.\n",
      "Preprocessing dataset: 100%|█████████████████████████████████████████████████| 3/3 [00:02<00:00,  1.49 Dicts/s]\n",
      "Unable to convert 5 samples to features. Their ids are : 60-0-0, 83-0-0, 471-0-0, 75-0-0, 143-0-0\n",
      "Preprocessing dataset: 100%|█████████████████████████████████████████████████| 1/1 [00:00<00:00,  2.52 Dicts/s]\n",
      "Unable to convert 5 samples to features. Their ids are : 471-0-0, 75-0-0, 60-0-0, 143-0-0, 83-0-0\n"
     ]
    }
   ],
   "source": [
    "train_filename = \"electronics-train.json\"\n",
    "dev_filename = \"electronics-validation.json\"\n",
    "\n",
    "reader.train(data_dir=\".\", use_gpu=True, n_epochs=1, batch_size=16,\n",
    "             train_filename=train_filename, dev_filename=dev_filename)"
   ]
  },
  {
   "cell_type": "code",
   "execution_count": 42,
   "id": "b768d2d8-91dc-4821-9f90-f8769ae83925",
   "metadata": {},
   "outputs": [],
   "source": [
    "reader_eval[\"Fine-tune on SQuAD + SubjQA\"] = evaluate_reader(reader)"
   ]
  },
  {
   "cell_type": "code",
   "execution_count": 43,
   "id": "a8fb70e2-2476-42ce-81d4-ee691dbe74a8",
   "metadata": {},
   "outputs": [
    {
     "data": {
      "image/png": "[encoded data removed]",
      "text/plain": [
       "<Figure size 640x480 with 1 Axes>"
      ]
     },
     "metadata": {},
     "output_type": "display_data"
    }
   ],
   "source": [
    "plot_reader_eval(reader_eval)"
   ]
  },
  {
   "cell_type": "code",
   "execution_count": 44,
   "id": "30645c74-f61a-42ed-99a7-aa1f683fafe5",
   "metadata": {},
   "outputs": [
    {
     "name": "stderr",
     "output_type": "stream",
     "text": [
      "Some weights of BertForQuestionAnswering were not initialized from the model checkpoint at microsoft/MiniLM-L12-H384-uncased and are newly initialized: ['qa_outputs.bias', 'qa_outputs.weight']\n",
      "You should probably TRAIN this model on a down-stream task to be able to use it for predictions and inference.\n"
     ]
    }
   ],
   "source": [
    "minilm_ckpt = \"microsoft/MiniLM-L12-H384-uncased\"\n",
    "minilm_reader = FARMReader(model_name_or_path=minilm_ckpt, progress_bar=False,\n",
    "                           max_seq_len=max_seq_length, doc_stride=doc_stride,\n",
    "                           return_no_answer=True)"
   ]
  },
  {
   "cell_type": "code",
   "execution_count": 45,
   "id": "16efb4a9-bd52-4860-aac4-677e2f7bfc13",
   "metadata": {},
   "outputs": [
    {
     "name": "stderr",
     "output_type": "stream",
     "text": [
      "Preprocessing dataset:   0%|                                                         | 0/3 [00:00<?, ? Dicts/s]Answer 'These earbuds are nothing special. Their best attribute is that they are cheap. The sound from them is nothing special. In comparison to my standard white IPod buds these seem to emphasize the higher frequencies. There seems to be nothing happening in the bass range with these. I don't think they are efficient enough to have much bass at all. To be fair, my IPod buds overly emphasize bass so they are not that accurate either. I also compared these to a pricy Sennheiser set that I've owned for a couple of years and let's just say there is a reason why the Sennheisers cost more.Surely these Panasonic buds are very nice to use if you think they might get damaged somehow in use as it will not break your heart to have to replace them. These might be especially useful if you only listen to talk radio or have high frequency hearing loss. If you really like to listen to the most of your music and you must wear earbuds then these are not for you.I also have to note that these are packaged in a difficult to open blister pack that required several passes with utility shears to break into. I hate to see all the plastic that has to be discarded just to get this product out of the package.Cosmetically, they are OK. They don't hurt my ears and are comfortable to me. They come with a couple of other size ear pieces if you are hard to fit. The wires take a set when folded so they are not very well-behaved and don't coil nicely and lie flat when you put them away. These will be a little bird's nest of tangled wires when you set them aside. ANSWERNOTFOUND' not contained in context.\n",
      "Example will not be converted for training/evaluation.\n",
      "Preprocessing dataset:  33%|████████████████▎                                | 1/3 [00:00<00:01,  1.44 Dicts/s]Answer using start/end indices is '  Operation of the menus and contro' while gold label text is 'Operation of the menus and controls'.\n",
      "Example will not be converted for training/evaluation.\n",
      "Answer using start/end indices is '  This camera performs like the pros.  Fast accurate and easy to operat' while gold label text is 'This camera performs like the pros.  Fast accurate and easy to operated'.\n",
      "Example will not be converted for training/evaluation.\n",
      "Preprocessing dataset:  67%|████████████████████████████████▋                | 2/3 [00:01<00:00,  1.08 Dicts/s]Answer 'enjoy my music.  When I used my old one ear headset for music, the connection was not that good even if I put the phone in my pants pocket.  I used it on iPhone 4S and iPad 3 for music, phone calls, and audible app.  All Bluetooth controls work fine. ANSWERNOTFOUND' not contained in context.\n",
      "Example will not be converted for training/evaluation.\n",
      "Answer 'is good.  First unit defective.  Directions are weak and limited, Net support just plain bad. Roku insists on registration, [I think SEVEN times for us] before asking dumb questions and forcing us to run from computer to TV and back.  This is a Roku 3, and apparently it's too new for them to handle. ANSWERNOTFOUND' not contained in context.\n",
      "Example will not be converted for training/evaluation.\n",
      "Preprocessing dataset: 100%|█████████████████████████████████████████████████| 3/3 [00:02<00:00,  1.34 Dicts/s]\n",
      "Unable to convert 5 samples to features. Their ids are : 60-0-0, 83-0-0, 471-0-0, 75-0-0, 143-0-0\n",
      "Preprocessing dataset: 100%|█████████████████████████████████████████████████| 1/1 [00:00<00:00,  2.57 Dicts/s]\n",
      "Unable to convert 5 samples to features. Their ids are : 471-0-0, 75-0-0, 60-0-0, 143-0-0, 83-0-0\n"
     ]
    }
   ],
   "source": [
    "minilm_reader.train(data_dir=\".\", use_gpu=True, n_epochs=1, batch_size=16,\n",
    "             train_filename=train_filename, dev_filename=dev_filename)"
   ]
  },
  {
   "cell_type": "code",
   "execution_count": 46,
   "id": "a8699326-35a7-48b0-ad66-daf65dec3ac2",
   "metadata": {},
   "outputs": [],
   "source": [
    "reader_eval[\"Fine-tune on SubjQA\"] = evaluate_reader(minilm_reader)"
   ]
  },
  {
   "cell_type": "code",
   "execution_count": 47,
   "id": "ff36848e-a4a2-4c29-b4f1-30cd4d091766",
   "metadata": {},
   "outputs": [
    {
     "data": {
      "image/png": "[encoded data removed]",
      "text/plain": [
       "<Figure size 640x480 with 1 Axes>"
      ]
     },
     "metadata": {},
     "output_type": "display_data"
    }
   ],
   "source": [
    "plot_reader_eval(reader_eval)"
   ]
  },
  {
   "cell_type": "markdown",
   "id": "dfaab5dd-4f34-492b-bc94-7dc0045b3df3",
   "metadata": {},
   "source": [
    "## Evaluating the Whole QA Pipeline"
   ]
  },
  {
   "cell_type": "code",
   "execution_count": 48,
   "id": "a874aed9-3fb0-47cf-9a09-dc2231d6f619",
   "metadata": {},
   "outputs": [],
   "source": [
    "from haystack.pipelines import ExtractiveQAPipeline\n",
    "pipe = ExtractiveQAPipeline(retriever=bm25_retriever, reader=reader)\n",
    "\n",
    "# Evaluate!\n",
    "eval_result = pipe.eval(\n",
    "    labels=labels_agg,\n",
    "    params={},\n",
    ")\n",
    "metrics = eval_result.calculate_metrics(simulated_top_k_reader=1)\n",
    "# Extract metrics from reader\n",
    "reader_eval[\"QA Pipeline (top-1)\"] = {\n",
    "    k:v for k,v in metrics[\"Reader\"].items()\n",
    "    if k in [\"exact_match\", \"f1\"]}"
   ]
  },
  {
   "cell_type": "code",
   "execution_count": 49,
   "id": "a75ec091-ef08-4947-87fd-a43efdf2fe5e",
   "metadata": {},
   "outputs": [
    {
     "data": {
      "image/png": "[encoded data removed]",
      "text/plain": [
       "<Figure size 640x480 with 1 Axes>"
      ]
     },
     "metadata": {},
     "output_type": "display_data"
    }
   ],
   "source": [
    "#id reader-vs-pipeline\n",
    "#caption Comparison of EM and _F_~1~ scores for the reader against the whole QA pipeline\n",
    "plot_reader_eval({\"Reader\": reader_eval[\"Fine-tune on SQuAD + SubjQA\"], \n",
    "                  \"QA pipeline (top-1)\": reader_eval[\"QA Pipeline (top-1)\"]})"
   ]
  },
  {
   "cell_type": "code",
   "execution_count": 50,
   "id": "86bc1622-7af1-47b9-a76b-4327375e5186",
   "metadata": {},
   "outputs": [
    {
     "data": {
      "image/png": "[encoded data removed]",
      "text/plain": [
       "<Figure size 640x480 with 1 Axes>"
      ]
     },
     "metadata": {},
     "output_type": "display_data"
    }
   ],
   "source": [
    "# Or get QA pipeline and Reader metrics in one shot:\n",
    "# Reader evaluation is run a second time using simulated perfect retriever results\n",
    "eval_result = pipe.eval(\n",
    "    labels=labels_agg,\n",
    "    params={},\n",
    "    add_isolated_node_eval=True\n",
    ")\n",
    "metrics = eval_result.calculate_metrics(simulated_top_k_reader=1)\n",
    "# Extract metrics from reader run in isolation with simulated perfect retriever\n",
    "isolated_metrics = eval_result.calculate_metrics(simulated_top_k_reader=1, eval_mode=\"isolated\")\n",
    "\n",
    "pipeline_reader_eval = {}\n",
    "pipeline_reader_eval[\"Reader\"] = {\n",
    "    k:v for k,v in isolated_metrics[\"Reader\"].items()\n",
    "    if k in [\"exact_match\", \"f1\"]}\n",
    "pipeline_reader_eval[\"QA Pipeline (top-1)\"] = {\n",
    "    k:v for k,v in metrics[\"Reader\"].items()\n",
    "    if k in [\"exact_match\", \"f1\"]}\n",
    "\n",
    "plot_reader_eval(pipeline_reader_eval)"
   ]
  },
  {
   "cell_type": "markdown",
   "id": "57ca43a1-a67e-4925-85e5-ed3111934b8b",
   "metadata": {},
   "source": [
    "## Going Beyond Extractive QA"
   ]
  },
  {
   "cell_type": "markdown",
   "id": "60560fe1-c635-4d7b-a906-7bd8ade0e434",
   "metadata": {},
   "source": [
    "### Retrieval-Augmented Generation\n",
    "\n",
    "> As of version 1.16, `RAGenerator` has been deprecated in Haystack and completely removed from Haystack as of v1.18. We recommend following the tutorial on [Creating a Generative QA Pipeline with Retrieval-Augmentation](https://haystack.deepset.ai/tutorials/22_pipeline_with_promptnode) instead. For more details about this deprecation, check out [our announcement](https://github.com/deepset-ai/haystack/discussions/4816) on Github."
   ]
  },
  {
   "cell_type": "raw",
   "id": "0a284011-e1a3-46aa-9f9e-71b51f76373e",
   "metadata": {},
   "source": [
    "from haystack.nodes import RAGenerator\n",
    "\n",
    "generator = RAGenerator(model_name_or_path=\"facebook/rag-token-nq\",\n",
    "                        embed_title=False, num_beams=5)"
   ]
  },
  {
   "cell_type": "raw",
   "id": "405d8004-a102-4001-81c2-117c61bfb784",
   "metadata": {},
   "source": [
    "from haystack.pipelines import GenerativeQAPipeline\n",
    "\n",
    "pipe = GenerativeQAPipeline(generator=generator, retriever=dpr_retriever)"
   ]
  },
  {
   "cell_type": "raw",
   "id": "33353eed-d9cf-4843-8003-e9fc2e3f0949",
   "metadata": {},
   "source": [
    "def generate_answers(query, top_k_generator=3):\n",
    "    preds = pipe.run(query=query, \n",
    "                     params={\"Retriever\": {\"top_k\":5, \n",
    "                                  \"filters\":{\"item_id\": [\"B0074BW614\"]}},\n",
    "                             \"Generator\": {\"top_k\": top_k_generator}})  \n",
    "    print(f\"Question: {preds['query']} \\n\")\n",
    "    for idx in range(top_k_generator):\n",
    "        print(f\"Answer {idx+1}: {preds['answers'][idx].answer}\")"
   ]
  },
  {
   "cell_type": "raw",
   "id": "fff8acfb-fd7c-479f-92cf-0a31abb60154",
   "metadata": {},
   "source": [
    "generate_answers(query)"
   ]
  },
  {
   "cell_type": "raw",
   "id": "ad7100aa-ffec-45dc-8400-d015a5497996",
   "metadata": {},
   "source": [
    "generate_answers(\"What is the main drawback?\")"
   ]
  },
  {
   "cell_type": "code",
   "execution_count": null,
   "id": "fa26968b-53e6-4eae-84d3-292fc9daaa17",
   "metadata": {},
   "outputs": [],
   "source": []
  },
  {
   "cell_type": "code",
   "execution_count": null,
   "id": "3be72c71-6839-4230-932b-52228d56d5c5",
   "metadata": {},
   "outputs": [],
   "source": [
    "from haystack.nodes import PromptNode, PromptTemplate, AnswerParser\n",
    "\n",
    "rag_prompt = PromptTemplate(\n",
    "    prompt=\"\"\"Synthesize a comprehensive answer from the following text for the given question.\n",
    "                             Provide a clear and concise response that summarizes the key points and information presented in the text.\n",
    "                             Your answer should be in your own words and be no longer than 50 words.\n",
    "                             \\n\\n Related text: {join(documents)} \\n\\n Question: {query} \\n\\n Answer:\"\"\",\n",
    "    output_parser=AnswerParser(),\n",
    ")\n",
    "\n",
    "prompt_node = PromptNode(model_name_or_path=\"google/flan-t5-large\", default_prompt_template=rag_prompt)"
   ]
  },
  {
   "cell_type": "code",
   "execution_count": null,
   "id": "b754d53b-ae06-4b51-913f-6e4448782d23",
   "metadata": {},
   "outputs": [],
   "source": [
    "from haystack.pipelines import Pipeline\n",
    "\n",
    "pipe = Pipeline()\n",
    "pipe.add_node(component=dpr_retriever, name=\"retriever\", inputs=[\"Query\"])\n",
    "pipe.add_node(component=prompt_node, name=\"prompt_node\", inputs=[\"retriever\"])"
   ]
  },
  {
   "cell_type": "code",
   "execution_count": null,
   "id": "46d9edf6-8020-4ebb-a6e8-8e3a799fbfc0",
   "metadata": {},
   "outputs": [],
   "source": [
    "def generate_answers(query, top_k_3):\n",
    "    preds = pipe.run(query=query,\n",
    "                     params={\"retriever\": {\"top_k\": 1, \"filters\": {\"item_id\": [\"B0074BW614\"]}}})\n",
    "                     \n",
    "    print(f\"Question: {preds['query']} \\n\")\n",
    "    for idx in range(top_k_generator):\n",
    "       print(f\"Answer {idx+1}: {preds['answers'][idx].answer}\")"
   ]
  },
  {
   "cell_type": "code",
   "execution_count": null,
   "id": "938ce9df-3ba6-4872-96e7-b8bdbe10691f",
   "metadata": {},
   "outputs": [],
   "source": [
    "generate_answers(query)"
   ]
  },
  {
   "cell_type": "code",
   "execution_count": null,
   "id": "229198cc-7246-4672-adc9-8e25e0470036",
   "metadata": {},
   "outputs": [],
   "source": [
    "preds = pipe.run(query=query,\n",
    "                     params={\"retriever\": {\"top_k\": 1, \"filters\": {\"item_id\": [\"B0074BW614\"]}}})\n",
    "preds"
   ]
  },
  {
   "cell_type": "code",
   "execution_count": null,
   "id": "d2c6cf32-bbdb-424b-98e0-67d2e6e63bba",
   "metadata": {},
   "outputs": [],
   "source": [
    "print(output['answers'][0].meta['prompt'][275:])"
   ]
  },
  {
   "cell_type": "code",
   "execution_count": null,
   "id": "3670641c-e43f-4cb6-a846-de90bce08f37",
   "metadata": {},
   "outputs": [],
   "source": []
  },
  {
   "cell_type": "code",
   "execution_count": null,
   "id": "92ccd951-c37c-4ded-84d5-b0e2f22f7bdd",
   "metadata": {},
   "outputs": [],
   "source": []
  },
  {
   "cell_type": "code",
   "execution_count": null,
   "id": "4523b2b1-4eab-428c-b124-b44a4cec73c9",
   "metadata": {},
   "outputs": [],
   "source": []
  },
  {
   "cell_type": "code",
   "execution_count": null,
   "id": "dc0c05b4-9ae3-4b6b-a6af-c5933c159ac9",
   "metadata": {},
   "outputs": [],
   "source": []
  },
  {
   "cell_type": "code",
   "execution_count": null,
   "id": "5bdd9af5-c22b-4887-9d66-cf08ba0fc19d",
   "metadata": {},
   "outputs": [],
   "source": [
    "from datasets import load_dataset\n",
    "\n",
    "dataset = load_dataset(\"bilgeyucel/seven-wonders\", split=\"train\")"
   ]
  },
  {
   "cell_type": "code",
   "execution_count": null,
   "id": "ea2c5cb6-7e83-4c97-aa97-a579fd4f9bba",
   "metadata": {},
   "outputs": [],
   "source": [
    "type(subjqa)"
   ]
  },
  {
   "cell_type": "code",
   "execution_count": null,
   "id": "c237f6ec-39e0-46a2-a135-8dc0cf0443c5",
   "metadata": {},
   "outputs": [],
   "source": []
  },
  {
   "cell_type": "code",
   "execution_count": null,
   "id": "2f52b3b6-cb9c-4beb-a271-5ab6cca685fa",
   "metadata": {},
   "outputs": [],
   "source": []
  },
  {
   "cell_type": "code",
   "execution_count": null,
   "id": "6f529e97-eb32-4813-a07d-5b9ba33e8392",
   "metadata": {},
   "outputs": [],
   "source": []
  },
  {
   "cell_type": "code",
   "execution_count": null,
   "id": "10299a19-5396-444e-a47a-25e57d6811b9",
   "metadata": {},
   "outputs": [],
   "source": [
    "from haystack.nodes import PromptNode, PromptTemplate, AnswerParser\n",
    "\n",
    "rag_prompt = PromptTemplate(\n",
    "    prompt=\"\"\"Synthesize a comprehensive answer from the following text for the given question.\n",
    "              Provide a clear and concise response that summarizes the key points and information presented in the text.\n",
    "              Your answer should be in your own words and be no longer than 50 words.\n",
    "              \\n\\n Related text: {join(documents)} \\n\\n Question: {query} \\n\\n Answer:\"\"\",\n",
    "    output_parser=AnswerParser(),\n",
    ")\n",
    "\n",
    "prompt_node = PromptNode(\n",
    "    model_name_or_path=\"facebook/rag-token-nq\", default_prompt_template=rag_prompt\n",
    ")"
   ]
  },
  {
   "cell_type": "code",
   "execution_count": null,
   "id": "57ce5ede-58be-4b75-8511-413097929a1f",
   "metadata": {},
   "outputs": [],
   "source": []
  },
  {
   "cell_type": "code",
   "execution_count": null,
   "id": "c492707e-fa2c-478e-90ed-94e865807d11",
   "metadata": {},
   "outputs": [],
   "source": []
  },
  {
   "cell_type": "markdown",
   "id": "bb76aefa-9d0f-4c52-b07f-c06a02b4427b",
   "metadata": {},
   "source": [
    "## Conclusion"
   ]
  },
  {
   "cell_type": "code",
   "execution_count": null,
   "id": "0262796c-1b6a-4cfd-894a-e0ee34e79c27",
   "metadata": {},
   "outputs": [],
   "source": []
  }
 ],
 "metadata": {
  "kernelspec": {
   "display_name": "Python 3 (ipykernel)",
   "language": "python",
   "name": "python3"
  },
  "language_info": {
   "codemirror_mode": {
    "name": "ipython",
    "version": 3
   },
   "file_extension": ".py",
   "mimetype": "text/x-python",
   "name": "python",
   "nbconvert_exporter": "python",
   "pygments_lexer": "ipython3",
   "version": "3.8.17"
  }
 },
 "nbformat": 4,
 "nbformat_minor": 5
}
